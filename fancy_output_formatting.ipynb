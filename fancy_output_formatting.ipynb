{
  "nbformat": 4,
  "nbformat_minor": 0,
  "metadata": {
    "colab": {
      "name": "fancy_output_formatting.ipynb",
      "provenance": [],
      "collapsed_sections": []
    },
    "kernelspec": {
      "name": "python3",
      "display_name": "Python 3"
    },
    "language_info": {
      "name": "python"
    }
  },
  "cells": [
    {
      "cell_type": "markdown",
      "metadata": {
        "id": "LOwI__BZwC1V"
      },
      "source": [
        "# 官方技术文档 @\n",
        "\n",
        "https://docs.python.org/3/tutorial/inputoutput.html"
      ]
    },
    {
      "cell_type": "markdown",
      "metadata": {
        "id": "74rX18AgwGwE"
      },
      "source": [
        "# 为什么需要？\n",
        "#### 当你需要控制输出，使其以一种特定效果表现出来，而不仅仅是以空格为间隔的表现形式，那么，就需要对输出进行格式化处理，因为输出一般以字符串为主，因此，也常称为string formatting。"
      ]
    },
    {
      "cell_type": "markdown",
      "metadata": {
        "id": "j491nXYOnKqL"
      },
      "source": [
        "#### 为何需要？举个例子："
      ]
    },
    {
      "cell_type": "code",
      "metadata": {
        "colab": {
          "base_uri": "https://localhost:8080/"
        },
        "id": "_mGRyOiMm1_a",
        "outputId": "ff21be6b-015b-4883-c413-862385b17bcb"
      },
      "source": [
        "import math\n",
        "\n",
        "apple_pi = math.pi\n",
        "\n",
        "print('PI值大概是', apple_pi)"
      ],
      "execution_count": 90,
      "outputs": [
        {
          "output_type": "stream",
          "text": [
            "PI值大概是 3.141592653589793\n"
          ],
          "name": "stdout"
        }
      ]
    },
    {
      "cell_type": "code",
      "metadata": {
        "id": "oKvISgR_m2zb",
        "colab": {
          "base_uri": "https://localhost:8080/"
        },
        "outputId": "3a823515-73ed-4ecf-b819-9dbfc02dd939"
      },
      "source": [
        "len(str(apple_pi))"
      ],
      "execution_count": 91,
      "outputs": [
        {
          "output_type": "execute_result",
          "data": {
            "text/plain": [
              "17"
            ]
          },
          "metadata": {
            "tags": []
          },
          "execution_count": 91
        }
      ]
    },
    {
      "cell_type": "code",
      "metadata": {
        "id": "dok_HvDkwkAC"
      },
      "source": [
        ""
      ],
      "execution_count": null,
      "outputs": []
    },
    {
      "cell_type": "code",
      "metadata": {
        "id": "94wSEl628YUP"
      },
      "source": [
        ""
      ],
      "execution_count": null,
      "outputs": []
    },
    {
      "cell_type": "markdown",
      "metadata": {
        "id": "_8phsGrhiJcL"
      },
      "source": [
        "# 3种方式：\n",
        "#### 1. old string formatting ~ old style ~ C's printf-style：%-operator \n",
        "#### 2. new style ~ Python 2.7以上： str.format()\n",
        "#### 3. formatted string literals ~ string interpolation ~ f-strings ~ Python 3.6以上：f\"{ }\" "
      ]
    },
    {
      "cell_type": "markdown",
      "metadata": {
        "id": "yXO6KMou5S9O"
      },
      "source": [
        "### e.g.1:"
      ]
    },
    {
      "cell_type": "code",
      "metadata": {
        "colab": {
          "base_uri": "https://localhost:8080/"
        },
        "id": "GgPhYda_hpeW",
        "outputId": "aa68d1cb-6064-49f5-864d-5d9039532dd8"
      },
      "source": [
        "# 1. old style:\n",
        "\n",
        "print('PI值大概是 %5.2f.' % math.pi)"
      ],
      "execution_count": null,
      "outputs": [
        {
          "output_type": "stream",
          "text": [
            "PI值大概是  3.14.\n"
          ],
          "name": "stdout"
        }
      ]
    },
    {
      "cell_type": "code",
      "metadata": {
        "colab": {
          "base_uri": "https://localhost:8080/"
        },
        "id": "TJDd2DTShphH",
        "outputId": "abfd4541-7c94-4782-fab1-8c744bcee6f9"
      },
      "source": [
        "# 2. new style:\n",
        "\n",
        "print('PI值大概是 {0:.2f}'.format(math.pi))"
      ],
      "execution_count": null,
      "outputs": [
        {
          "output_type": "stream",
          "text": [
            "PI值大概是 3.14\n"
          ],
          "name": "stdout"
        }
      ]
    },
    {
      "cell_type": "code",
      "metadata": {
        "colab": {
          "base_uri": "https://localhost:8080/"
        },
        "id": "1w3KUEVFhpl6",
        "outputId": "0fb4a9f6-6283-419c-e5ac-b891902484b3"
      },
      "source": [
        "# 3. f-strings:\n",
        "\n",
        "print(f'PI值大概是 {math.pi:.2f}')"
      ],
      "execution_count": null,
      "outputs": [
        {
          "output_type": "stream",
          "text": [
            "PI值大概是 3.14\n"
          ],
          "name": "stdout"
        }
      ]
    },
    {
      "cell_type": "markdown",
      "metadata": {
        "id": "JkK2_UgY5XbJ"
      },
      "source": [
        "### e.g.2:"
      ]
    },
    {
      "cell_type": "code",
      "metadata": {
        "id": "FpyVS0yLwqBp"
      },
      "source": [
        "a = 5\n",
        "b = 10"
      ],
      "execution_count": 70,
      "outputs": []
    },
    {
      "cell_type": "code",
      "metadata": {
        "id": "YItsa-gawqTa",
        "colab": {
          "base_uri": "https://localhost:8080/"
        },
        "outputId": "61be6941-fc8a-45af-db42-2568b761d50c"
      },
      "source": [
        "# 1. old style:\n",
        "\n",
        "print('5加10等于 %s 而不是 %s' %(a+b, 2*(a + b)))"
      ],
      "execution_count": 73,
      "outputs": [
        {
          "output_type": "stream",
          "text": [
            "5加10等于 15 而不是 30\n"
          ],
          "name": "stdout"
        }
      ]
    },
    {
      "cell_type": "code",
      "metadata": {
        "colab": {
          "base_uri": "https://localhost:8080/"
        },
        "id": "BMU5H-ns3rrz",
        "outputId": "9713afb2-54ca-47e8-c4e9-853b5485ab94"
      },
      "source": [
        "# 2. new style:\n",
        "\n",
        "print('5加10等于 {:.2f} 而不是 {:.5f}%'.format(a+b, 2*(a + b)))"
      ],
      "execution_count": 74,
      "outputs": [
        {
          "output_type": "stream",
          "text": [
            "5加10等于 15.00 而不是 30.00000%\n"
          ],
          "name": "stdout"
        }
      ]
    },
    {
      "cell_type": "code",
      "metadata": {
        "colab": {
          "base_uri": "https://localhost:8080/"
        },
        "id": "U_C1Cpdawiew",
        "outputId": "e3ecae51-e2b5-4ca0-cf15-e0712ba59b19"
      },
      "source": [
        "# 3. f-strings:\n",
        "\n",
        "print(f'5加10等于 {a + b} 而不是 {2 * (a + b)}')"
      ],
      "execution_count": 75,
      "outputs": [
        {
          "output_type": "stream",
          "text": [
            "5加10等于 15 而不是 30\n"
          ],
          "name": "stdout"
        }
      ]
    },
    {
      "cell_type": "markdown",
      "metadata": {
        "id": "v2EFiWUj9OoE"
      },
      "source": [
        "### e.g.3:"
      ]
    },
    {
      "cell_type": "code",
      "metadata": {
        "id": "erCh8Ozl9-eX"
      },
      "source": [
        "table = {'周杰伦': 4127, '刘昊然': 4098, '黄子韬': 7678}"
      ],
      "execution_count": 111,
      "outputs": []
    },
    {
      "cell_type": "code",
      "metadata": {
        "colab": {
          "base_uri": "https://localhost:8080/"
        },
        "id": "dSRx7ckZ9Rad",
        "outputId": "9e164d33-5287-4b49-a951-359612dfd4b3"
      },
      "source": [
        "# 1. old style:\n",
        "\n",
        "for key, val in table.items():\n",
        "    print('%s, %d' %(key, val))"
      ],
      "execution_count": 112,
      "outputs": [
        {
          "output_type": "stream",
          "text": [
            "周杰伦, 4127\n",
            "刘昊然, 4098\n",
            "黄子韬, 7678\n"
          ],
          "name": "stdout"
        }
      ]
    },
    {
      "cell_type": "code",
      "metadata": {
        "colab": {
          "base_uri": "https://localhost:8080/"
        },
        "id": "27adKFca9UCE",
        "outputId": "13625a63-6861-44ff-c4ee-2accc6347418"
      },
      "source": [
        "# 2. new style:\n",
        "\n",
        "for key, val in table.items():\n",
        "    print('{}, {}'.format(key, val))"
      ],
      "execution_count": 113,
      "outputs": [
        {
          "output_type": "stream",
          "text": [
            "周杰伦, 4127\n",
            "刘昊然, 4098\n",
            "黄子韬, 7678\n"
          ],
          "name": "stdout"
        }
      ]
    },
    {
      "cell_type": "code",
      "metadata": {
        "id": "P1_1Hsk2wm7M",
        "colab": {
          "base_uri": "https://localhost:8080/"
        },
        "outputId": "4f4d6fef-ee15-481b-9651-1ed1547fe394"
      },
      "source": [
        "# 3. f-strings:\n",
        "\n",
        "for key, val in table.items():\n",
        "    print(f'{key:10} ==> {val:10d}')"
      ],
      "execution_count": 114,
      "outputs": [
        {
          "output_type": "stream",
          "text": [
            "周杰伦        ==>       4127\n",
            "刘昊然        ==>       4098\n",
            "黄子韬        ==>       7678\n"
          ],
          "name": "stdout"
        }
      ]
    },
    {
      "cell_type": "code",
      "metadata": {
        "id": "ZYU_01Zq-Bpo"
      },
      "source": [
        ""
      ],
      "execution_count": null,
      "outputs": []
    },
    {
      "cell_type": "code",
      "metadata": {
        "id": "cWD2i11J-Bsg"
      },
      "source": [
        ""
      ],
      "execution_count": null,
      "outputs": []
    },
    {
      "cell_type": "markdown",
      "metadata": {
        "id": "RGOan_4y4JUu"
      },
      "source": [
        "# template strings(模板字符串):\n",
        "#### 当你有一个自有模板时，使用template strings最为简便"
      ]
    },
    {
      "cell_type": "code",
      "metadata": {
        "id": "E_0T-oyM4dzN"
      },
      "source": [
        "from string import Template"
      ],
      "execution_count": 77,
      "outputs": []
    },
    {
      "cell_type": "code",
      "metadata": {
        "colab": {
          "base_uri": "https://localhost:8080/",
          "height": 35
        },
        "id": "GX1Ymxl-4eyQ",
        "outputId": "a6438a80-5ad5-4403-affb-19bce883852b"
      },
      "source": [
        "name = '吴一梵'\n",
        "\n",
        "t = Template('Hey, $name, you messed it up!!!')\n",
        "t.substitute(name=name)"
      ],
      "execution_count": 87,
      "outputs": [
        {
          "output_type": "execute_result",
          "data": {
            "application/vnd.google.colaboratory.intrinsic+json": {
              "type": "string"
            },
            "text/plain": [
              "'Hey, 吴一梵, you messed it up!!!'"
            ]
          },
          "metadata": {
            "tags": []
          },
          "execution_count": 87
        }
      ]
    },
    {
      "cell_type": "code",
      "metadata": {
        "id": "URi3h6HR4e02"
      },
      "source": [
        ""
      ],
      "execution_count": null,
      "outputs": []
    },
    {
      "cell_type": "code",
      "metadata": {
        "id": "06C8yYwc5O_Z"
      },
      "source": [
        ""
      ],
      "execution_count": null,
      "outputs": []
    },
    {
      "cell_type": "markdown",
      "metadata": {
        "id": "TJPGqXcgrVNv"
      },
      "source": [
        "# 额外: \n",
        "#### 1. str()\n",
        "#### 2. repr()"
      ]
    },
    {
      "cell_type": "markdown",
      "metadata": {
        "id": "d9JZQAjarpzQ"
      },
      "source": [
        "#### 当你只是想得到一个快速显示或者处于debugging目的，不需要fancy输出，那么，可以使用str()或者repr()将任何一个值转换为字符格式(str)然会显示出来。"
      ]
    },
    {
      "cell_type": "markdown",
      "metadata": {
        "id": "m8uSli4NuGgO"
      },
      "source": [
        "#### str()将会返回一个对人类友好的表达式，而repr()则会生成一个编译器可读取理解的表达式。数字、list、dict在使用两者将会得到相同的结果，而str会得到两种不同的结果。"
      ]
    },
    {
      "cell_type": "code",
      "metadata": {
        "id": "IiewC6udsL_O"
      },
      "source": [
        "s = '你好啊, 世界'"
      ],
      "execution_count": 126,
      "outputs": []
    },
    {
      "cell_type": "code",
      "metadata": {
        "colab": {
          "base_uri": "https://localhost:8080/",
          "height": 35
        },
        "id": "E1PbM2xrsMB3",
        "outputId": "76db8e12-59d3-4de1-d362-a7a9117119f1"
      },
      "source": [
        "str(s)"
      ],
      "execution_count": 127,
      "outputs": [
        {
          "output_type": "execute_result",
          "data": {
            "application/vnd.google.colaboratory.intrinsic+json": {
              "type": "string"
            },
            "text/plain": [
              "'你好啊, 世界'"
            ]
          },
          "metadata": {
            "tags": []
          },
          "execution_count": 127
        }
      ]
    },
    {
      "cell_type": "code",
      "metadata": {
        "colab": {
          "base_uri": "https://localhost:8080/",
          "height": 35
        },
        "id": "f23UccxCsMEa",
        "outputId": "300a13a5-5a91-4bc7-95ef-21147948d72f"
      },
      "source": [
        "repr(s)"
      ],
      "execution_count": 128,
      "outputs": [
        {
          "output_type": "execute_result",
          "data": {
            "application/vnd.google.colaboratory.intrinsic+json": {
              "type": "string"
            },
            "text/plain": [
              "\"'你好啊, 世界'\""
            ]
          },
          "metadata": {
            "tags": []
          },
          "execution_count": 128
        }
      ]
    },
    {
      "cell_type": "code",
      "metadata": {
        "colab": {
          "base_uri": "https://localhost:8080/",
          "height": 35
        },
        "id": "8_pY3v1nsMHA",
        "outputId": "8519acb9-f8e4-4c99-bdf0-fc2884bf6d62"
      },
      "source": [
        "str(1/7)"
      ],
      "execution_count": 118,
      "outputs": [
        {
          "output_type": "execute_result",
          "data": {
            "application/vnd.google.colaboratory.intrinsic+json": {
              "type": "string"
            },
            "text/plain": [
              "'0.14285714285714285'"
            ]
          },
          "metadata": {
            "tags": []
          },
          "execution_count": 118
        }
      ]
    },
    {
      "cell_type": "code",
      "metadata": {
        "colab": {
          "base_uri": "https://localhost:8080/"
        },
        "id": "_CtTRSX1sMKd",
        "outputId": "f9643d2b-dbd1-4b30-d9ea-3e7ed360b99c"
      },
      "source": [
        "x = 10 * 3.25\n",
        "y = 200 * 200\n",
        "\n",
        "s = 'x 的值是：' + repr(x) + '\\ny 的值是： ' + repr(y)\n",
        "\n",
        "print(s)"
      ],
      "execution_count": 124,
      "outputs": [
        {
          "output_type": "stream",
          "text": [
            "x 的值是：32.5\n",
            "y 的值是： 40000\n"
          ],
          "name": "stdout"
        }
      ]
    },
    {
      "cell_type": "code",
      "metadata": {
        "colab": {
          "base_uri": "https://localhost:8080/"
        },
        "id": "AvS4xJ92vgf-",
        "outputId": "1648d1f7-1151-4162-cdf7-ecd47158aa16"
      },
      "source": [
        "# The repr() adds string quotes and backslashes:\n",
        "\n",
        "hello = '你好啊，世界\\n'\n",
        "\n",
        "hellos = repr(hello)\n",
        "\n",
        "print(hello)\n",
        "print(hellos)"
      ],
      "execution_count": 125,
      "outputs": [
        {
          "output_type": "stream",
          "text": [
            "你好啊，世界\n",
            "\n",
            "'你好啊，世界\\n'\n"
          ],
          "name": "stdout"
        }
      ]
    },
    {
      "cell_type": "code",
      "metadata": {
        "colab": {
          "base_uri": "https://localhost:8080/",
          "height": 35
        },
        "id": "q0NybUqYvvk7",
        "outputId": "cd101f1d-a92c-4784-9f31-cb9b2b145fef"
      },
      "source": [
        "# The argument of repr() may be any Python object:\n",
        "\n",
        "repr((x, y, ('西瓜哦', '鸡蛋')))"
      ],
      "execution_count": 130,
      "outputs": [
        {
          "output_type": "execute_result",
          "data": {
            "application/vnd.google.colaboratory.intrinsic+json": {
              "type": "string"
            },
            "text/plain": [
              "\"(32.5, 40000, ('西瓜哦', '鸡蛋'))\""
            ]
          },
          "metadata": {
            "tags": []
          },
          "execution_count": 130
        }
      ]
    },
    {
      "cell_type": "code",
      "metadata": {
        "id": "FckWjIJq6NG9"
      },
      "source": [
        ""
      ],
      "execution_count": null,
      "outputs": []
    },
    {
      "cell_type": "code",
      "metadata": {
        "id": "Nts4JnMX6NKR"
      },
      "source": [
        ""
      ],
      "execution_count": null,
      "outputs": []
    },
    {
      "cell_type": "markdown",
      "metadata": {
        "id": "Jpd3Z3yJ6Neb"
      },
      "source": [
        "# take-aways:\n",
        "f-string比%-formatting 和 str.format()更快，因为它在runtime时刻就已经被编译，建议使用；更棒的是，它比其他两种old方式都更加直观，可以说是一次颠覆性的升级。"
      ]
    }
  ]
}